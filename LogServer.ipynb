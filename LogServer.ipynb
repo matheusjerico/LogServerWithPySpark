{
 "cells": [
  {
   "cell_type": "markdown",
   "metadata": {},
   "source": [
    "**LinkedIn:** https://www.linkedin.com/in/matheusjerico"
   ]
  },
  {
   "cell_type": "markdown",
   "metadata": {},
   "source": [
    "## Análise de dados de logs de servidores"
   ]
  },
  {
   "cell_type": "markdown",
   "metadata": {},
   "source": [
    "## 1. Importando bibliotecas"
   ]
  },
  {
   "cell_type": "code",
   "execution_count": 2,
   "metadata": {},
   "outputs": [],
   "source": [
    "from pyspark.sql import Row\n",
    "from pyspark.sql import SparkSession\n",
    "from pyspark.sql import SQLContext\n",
    "from pyspark.sql.functions import regexp_extract, col"
   ]
  },
  {
   "cell_type": "markdown",
   "metadata": {},
   "source": [
    "## 2. Criando sessão"
   ]
  },
  {
   "cell_type": "code",
   "execution_count": 3,
   "metadata": {},
   "outputs": [],
   "source": [
    "spSession = SparkSession.builder.master(\"local\").appName(\"Analise de Dados\").getOrCreate()"
   ]
  },
  {
   "cell_type": "markdown",
   "metadata": {},
   "source": [
    "## 3. Carregando e Visualizando Dados"
   ]
  },
  {
   "cell_type": "markdown",
   "metadata": {},
   "source": [
    "### 3.1 importando dados"
   ]
  },
  {
   "cell_type": "code",
   "execution_count": 4,
   "metadata": {},
   "outputs": [],
   "source": [
    "dataset_julho = spSession.read.load(\"data/NASA_access_log_Jul95\",\n",
    "                                      format = \"csv\",\n",
    "                                      sep = \" \",\n",
    "                                      inferSchema = \"true\",\n",
    "                                      header = \"false\")"
   ]
  },
  {
   "cell_type": "code",
   "execution_count": 5,
   "metadata": {},
   "outputs": [
    {
     "name": "stdout",
     "output_type": "stream",
     "text": [
      "+--------------------+---+---+--------------------+------+--------------------+---+----+\n",
      "|                 _c0|_c1|_c2|                 _c3|   _c4|                 _c5|_c6| _c7|\n",
      "+--------------------+---+---+--------------------+------+--------------------+---+----+\n",
      "|        199.72.81.55|  -|  -|[01/Jul/1995:00:0...|-0400]|GET /history/apol...|200|6245|\n",
      "|unicomp6.unicomp.net|  -|  -|[01/Jul/1995:00:0...|-0400]|GET /shuttle/coun...|200|3985|\n",
      "|      199.120.110.21|  -|  -|[01/Jul/1995:00:0...|-0400]|GET /shuttle/miss...|200|4085|\n",
      "|  burger.letters.com|  -|  -|[01/Jul/1995:00:0...|-0400]|GET /shuttle/coun...|304|   0|\n",
      "|      199.120.110.21|  -|  -|[01/Jul/1995:00:0...|-0400]|GET /shuttle/miss...|200|4179|\n",
      "+--------------------+---+---+--------------------+------+--------------------+---+----+\n",
      "only showing top 5 rows\n",
      "\n"
     ]
    }
   ],
   "source": [
    "dataset_julho.show(n=5)"
   ]
  },
  {
   "cell_type": "code",
   "execution_count": 6,
   "metadata": {},
   "outputs": [],
   "source": [
    "dataset_agosto = spSession.read.load(\"data/NASA_access_log_Aug95\",\n",
    "                                      format = \"csv\",\n",
    "                                      sep = \" \",\n",
    "                                      inferSchema = \"true\",\n",
    "                                      header = \"false\")"
   ]
  },
  {
   "cell_type": "code",
   "execution_count": 7,
   "metadata": {},
   "outputs": [
    {
     "name": "stdout",
     "output_type": "stream",
     "text": [
      "+-----------------+---+---+--------------------+------+--------------------+---+----+\n",
      "|              _c0|_c1|_c2|                 _c3|   _c4|                 _c5|_c6| _c7|\n",
      "+-----------------+---+---+--------------------+------+--------------------+---+----+\n",
      "|in24.inetnebr.com|  -|  -|[01/Aug/1995:00:0...|-0400]|GET /shuttle/miss...|200|1839|\n",
      "|  uplherc.upl.com|  -|  -|[01/Aug/1995:00:0...|-0400]|      GET / HTTP/1.0|304|   0|\n",
      "|  uplherc.upl.com|  -|  -|[01/Aug/1995:00:0...|-0400]|GET /images/ksclo...|304|   0|\n",
      "|  uplherc.upl.com|  -|  -|[01/Aug/1995:00:0...|-0400]|GET /images/MOSAI...|304|   0|\n",
      "|  uplherc.upl.com|  -|  -|[01/Aug/1995:00:0...|-0400]|GET /images/USA-l...|304|   0|\n",
      "+-----------------+---+---+--------------------+------+--------------------+---+----+\n",
      "only showing top 5 rows\n",
      "\n"
     ]
    }
   ],
   "source": [
    "dataset_agosto.show(n=5)"
   ]
  },
  {
   "cell_type": "markdown",
   "metadata": {},
   "source": [
    "### 3.2 visualizando dados"
   ]
  },
  {
   "cell_type": "code",
   "execution_count": 8,
   "metadata": {},
   "outputs": [
    {
     "data": {
      "text/plain": [
       "1891715"
      ]
     },
     "execution_count": 8,
     "metadata": {},
     "output_type": "execute_result"
    }
   ],
   "source": [
    "dataset_julho.count()"
   ]
  },
  {
   "cell_type": "code",
   "execution_count": 9,
   "metadata": {},
   "outputs": [
    {
     "data": {
      "text/plain": [
       "1569898"
      ]
     },
     "execution_count": 9,
     "metadata": {},
     "output_type": "execute_result"
    }
   ],
   "source": [
    "dataset_agosto.count()"
   ]
  },
  {
   "cell_type": "code",
   "execution_count": 10,
   "metadata": {},
   "outputs": [
    {
     "name": "stdout",
     "output_type": "stream",
     "text": [
      "Soma total de linhas: 3461613\n"
     ]
    }
   ],
   "source": [
    "print(\"Soma total de linhas: {}\".format(dataset_julho.count() + dataset_agosto.count()))"
   ]
  },
  {
   "cell_type": "markdown",
   "metadata": {},
   "source": [
    "## 4. Processando os dados"
   ]
  },
  {
   "cell_type": "markdown",
   "metadata": {},
   "source": [
    "### 4.1 Unindo os dois datasets"
   ]
  },
  {
   "cell_type": "code",
   "execution_count": 11,
   "metadata": {},
   "outputs": [],
   "source": [
    "dataset = dataset_julho.unionAll(dataset_agosto)"
   ]
  },
  {
   "cell_type": "code",
   "execution_count": 12,
   "metadata": {},
   "outputs": [
    {
     "data": {
      "text/plain": [
       "3461613"
      ]
     },
     "execution_count": 12,
     "metadata": {},
     "output_type": "execute_result"
    }
   ],
   "source": [
    "dataset.count()"
   ]
  },
  {
   "cell_type": "markdown",
   "metadata": {},
   "source": [
    "### 4.2 Criando TableView"
   ]
  },
  {
   "cell_type": "code",
   "execution_count": 13,
   "metadata": {},
   "outputs": [],
   "source": [
    "dataset.createOrReplaceTempView(\"dataset\")"
   ]
  },
  {
   "cell_type": "markdown",
   "metadata": {},
   "source": [
    "### 4.3 Manipulando dados"
   ]
  },
  {
   "cell_type": "code",
   "execution_count": 14,
   "metadata": {},
   "outputs": [],
   "source": [
    "dataset2 = spSession.sql(\"SELECT *, CONCAT (_c3, ' ', _c4) as timestamp FROM dataset\")"
   ]
  },
  {
   "cell_type": "code",
   "execution_count": 20,
   "metadata": {},
   "outputs": [],
   "source": [
    "dataset3 = dataset2.withColumn('day', regexp_extract(col('_c3'), '(.)(\\d+)', 2))"
   ]
  },
  {
   "cell_type": "code",
   "execution_count": 24,
   "metadata": {},
   "outputs": [],
   "source": [
    "columns = ['_c1', '_c2', '_c3', '_c4']\n",
    "dataset4 = dataset3.drop(*columns)"
   ]
  },
  {
   "cell_type": "code",
   "execution_count": 25,
   "metadata": {},
   "outputs": [
    {
     "data": {
      "text/plain": [
       "Row(_c0='199.72.81.55', _c5='GET /history/apollo/ HTTP/1.0', _c6='200', _c7='6245', timestamp='[01/Jul/1995:00:00:01 -0400]', day='01')"
      ]
     },
     "execution_count": 25,
     "metadata": {},
     "output_type": "execute_result"
    }
   ],
   "source": [
    "dataset4.first()"
   ]
  },
  {
   "cell_type": "code",
   "execution_count": 26,
   "metadata": {},
   "outputs": [],
   "source": [
    "dataset_final = dataset4.withColumnRenamed(\"_c0\", \"HOST\")\\\n",
    "                        .withColumnRenamed(\"timestamp\", \"TIMESTAMP\")\\\n",
    "                        .withColumnRenamed(\"_c5\", \"REQ\")\\\n",
    "                        .withColumnRenamed(\"_c6\", \"COD_HTTP\")\\\n",
    "                        .withColumnRenamed(\"_c7\", \"TOTAL_BYTES\")\\\n",
    "                        .withColumnRenamed(\"day\", \"DAY\")"
   ]
  },
  {
   "cell_type": "code",
   "execution_count": 27,
   "metadata": {},
   "outputs": [
    {
     "name": "stdout",
     "output_type": "stream",
     "text": [
      "+--------------------+--------------------+--------+-----------+--------------------+---+\n",
      "|                HOST|                 REQ|COD_HTTP|TOTAL_BYTES|           TIMESTAMP|DAY|\n",
      "+--------------------+--------------------+--------+-----------+--------------------+---+\n",
      "|        199.72.81.55|GET /history/apol...|     200|       6245|[01/Jul/1995:00:0...| 01|\n",
      "|unicomp6.unicomp.net|GET /shuttle/coun...|     200|       3985|[01/Jul/1995:00:0...| 01|\n",
      "|      199.120.110.21|GET /shuttle/miss...|     200|       4085|[01/Jul/1995:00:0...| 01|\n",
      "|  burger.letters.com|GET /shuttle/coun...|     304|          0|[01/Jul/1995:00:0...| 01|\n",
      "|      199.120.110.21|GET /shuttle/miss...|     200|       4179|[01/Jul/1995:00:0...| 01|\n",
      "+--------------------+--------------------+--------+-----------+--------------------+---+\n",
      "only showing top 5 rows\n",
      "\n"
     ]
    }
   ],
   "source": [
    "dataset_final.show(5)"
   ]
  },
  {
   "cell_type": "markdown",
   "metadata": {},
   "source": [
    "### 4.4 Removendo TempView criada anteriormente"
   ]
  },
  {
   "cell_type": "code",
   "execution_count": 31,
   "metadata": {},
   "outputs": [],
   "source": [
    "sqlContext.dropTempTable(\"dataset\")"
   ]
  },
  {
   "cell_type": "markdown",
   "metadata": {},
   "source": [
    "### 4.5 Criando nova TempView com dataset definitivo"
   ]
  },
  {
   "cell_type": "code",
   "execution_count": 32,
   "metadata": {},
   "outputs": [],
   "source": [
    "dataset_final.createOrReplaceTempView(\"dataset\")"
   ]
  },
  {
   "cell_type": "code",
   "execution_count": 34,
   "metadata": {},
   "outputs": [
    {
     "name": "stdout",
     "output_type": "stream",
     "text": [
      "+--------------------+--------------------+--------+-----------+--------------------+---+\n",
      "|                HOST|                 REQ|COD_HTTP|TOTAL_BYTES|           TIMESTAMP|DAY|\n",
      "+--------------------+--------------------+--------+-----------+--------------------+---+\n",
      "|        199.72.81.55|GET /history/apol...|     200|       6245|[01/Jul/1995:00:0...| 01|\n",
      "|unicomp6.unicomp.net|GET /shuttle/coun...|     200|       3985|[01/Jul/1995:00:0...| 01|\n",
      "|      199.120.110.21|GET /shuttle/miss...|     200|       4085|[01/Jul/1995:00:0...| 01|\n",
      "|  burger.letters.com|GET /shuttle/coun...|     304|          0|[01/Jul/1995:00:0...| 01|\n",
      "|      199.120.110.21|GET /shuttle/miss...|     200|       4179|[01/Jul/1995:00:0...| 01|\n",
      "+--------------------+--------------------+--------+-----------+--------------------+---+\n",
      "\n"
     ]
    }
   ],
   "source": [
    "spSession.sql(\"select * from dataset limit 5\").show()"
   ]
  },
  {
   "cell_type": "markdown",
   "metadata": {},
   "source": [
    "# Respondendo Questões"
   ]
  },
  {
   "cell_type": "markdown",
   "metadata": {},
   "source": [
    "## 1. Números de Hosts únicos"
   ]
  },
  {
   "cell_type": "code",
   "execution_count": 89,
   "metadata": {},
   "outputs": [
    {
     "name": "stdout",
     "output_type": "stream",
     "text": [
      "[Row(COUNT_UNIQUE_HOSTS=137979)]\n"
     ]
    }
   ],
   "source": [
    "hostsUnique = spSession.sql(\"SELECT COUNT (DISTINCT HOST) as COUNT_UNIQUE_HOSTS FROM dataset\").collect()\n",
    "print(hostsUnique)"
   ]
  },
  {
   "cell_type": "code",
   "execution_count": 92,
   "metadata": {},
   "outputs": [
    {
     "name": "stdout",
     "output_type": "stream",
     "text": [
      "Quantidade de Hosts únicos: 137979\n"
     ]
    }
   ],
   "source": [
    "print(\"Quantidade de Hosts únicos: {}\"\\\n",
    "                                      .format(hostsUnique[0]['COUNT_UNIQUE_HOSTS']))"
   ]
  },
  {
   "cell_type": "markdown",
   "metadata": {},
   "source": [
    "## 2. Total de erros 404"
   ]
  },
  {
   "cell_type": "code",
   "execution_count": 126,
   "metadata": {},
   "outputs": [
    {
     "name": "stdout",
     "output_type": "stream",
     "text": [
      "CPU times: user 3.4 ms, sys: 160 µs, total: 3.56 ms\n",
      "Wall time: 1.34 s\n"
     ]
    }
   ],
   "source": [
    "%%time\n",
    "totalErros404WithSQL = spSession.sql(\"SELECT COUNT(COD_HTTP) as COUNT_HTTP_ERROR \\\n",
    "                                      FROM dataset WHERE COD_HTTP = 404\").first()"
   ]
  },
  {
   "cell_type": "code",
   "execution_count": 127,
   "metadata": {},
   "outputs": [
    {
     "name": "stdout",
     "output_type": "stream",
     "text": [
      "Total de error '404': 20871\n"
     ]
    }
   ],
   "source": [
    "print(\"Total de error '404': {}\".format(totalErros404WithSQL[0]))"
   ]
  },
  {
   "cell_type": "code",
   "execution_count": 128,
   "metadata": {},
   "outputs": [
    {
     "name": "stdout",
     "output_type": "stream",
     "text": [
      "CPU times: user 1.18 ms, sys: 55 µs, total: 1.24 ms\n",
      "Wall time: 1.32 s\n"
     ]
    }
   ],
   "source": [
    "%%time\n",
    "totalErros404WithFilter = dataset_final.filter(\"COD_HTTP == 404\").count()"
   ]
  },
  {
   "cell_type": "code",
   "execution_count": 129,
   "metadata": {},
   "outputs": [
    {
     "name": "stdout",
     "output_type": "stream",
     "text": [
      "Total de erros '404': 20871\n"
     ]
    }
   ],
   "source": [
    "print(\"Total de erros '404': {}\".format(totalErros404WithFilter))"
   ]
  },
  {
   "cell_type": "markdown",
   "metadata": {},
   "source": [
    "## 3. As 5 URLs que mais causaram erro 404"
   ]
  },
  {
   "cell_type": "code",
   "execution_count": 149,
   "metadata": {},
   "outputs": [],
   "source": [
    "url404 = spSession.sql(\"SELECT HOST, COUNT(COD_HTTP) FROM dataset\\\n",
    "                        WHERE COD_HTTP = 404 GROUP BY HOST ORDER BY\\\n",
    "                        COUNT(COD_HTTP) DESC\").take(10)"
   ]
  },
  {
   "cell_type": "code",
   "execution_count": 166,
   "metadata": {},
   "outputs": [
    {
     "name": "stdout",
     "output_type": "stream",
     "text": [
      "As 5 URLs que mais causaram erro 404:\n",
      "\n",
      "1º: url: 'hoohoo.ncsa.uiuc.edu' com '251' erros 404\n",
      "\n",
      "2º: url: 'piweba3y.prodigy.com' com '156' erros 404\n",
      "\n",
      "3º: url: 'jbiagioni.npt.nuwc.navy.mil' com '132' erros 404\n",
      "\n",
      "4º: url: 'piweba1y.prodigy.com' com '114' erros 404\n",
      "\n",
      "5º: url: 'www-d4.proxy.aol.com' com '91' erros 404\n",
      "\n"
     ]
    }
   ],
   "source": [
    "print(\"As 5 URLs que mais causaram erro 404:\\n\")\n",
    "for i in range(0,5):\n",
    "    print(\"{}º: url:'{}' com '{}' erros 404\\n\".format((i+1), \n",
    "                                                     url404[i][\"HOST\"],\n",
    "                                                     url404[i][\"count(COD_HTTP)\"]))"
   ]
  },
  {
   "cell_type": "code",
   "execution_count": 165,
   "metadata": {},
   "outputs": [
    {
     "data": {
      "text/plain": [
       "[Row(HOST='hoohoo.ncsa.uiuc.edu', count(COD_HTTP)=251),\n",
       " Row(HOST='piweba3y.prodigy.com', count(COD_HTTP)=156),\n",
       " Row(HOST='jbiagioni.npt.nuwc.navy.mil', count(COD_HTTP)=132),\n",
       " Row(HOST='piweba1y.prodigy.com', count(COD_HTTP)=114),\n",
       " Row(HOST='www-d4.proxy.aol.com', count(COD_HTTP)=91)]"
      ]
     },
     "execution_count": 165,
     "metadata": {},
     "output_type": "execute_result"
    }
   ],
   "source": [
    "url404[:5]"
   ]
  },
  {
   "cell_type": "markdown",
   "metadata": {},
   "source": [
    "## 4. Quantidade de erros 404 por dia"
   ]
  },
  {
   "cell_type": "code",
   "execution_count": 177,
   "metadata": {},
   "outputs": [],
   "source": [
    "dia404 = spSession.sql(\"SELECT DAY, COUNT(COD_HTTP) FROM dataset\\\n",
    "                        WHERE COD_HTTP = 404 GROUP BY DAY ORDER BY\\\n",
    "                        DAY ASC\").collect()"
   ]
  },
  {
   "cell_type": "code",
   "execution_count": 178,
   "metadata": {},
   "outputs": [
    {
     "data": {
      "text/plain": [
       "[Row(DAY='01', count(COD_HTTP)=559),\n",
       " Row(DAY='02', count(COD_HTTP)=291),\n",
       " Row(DAY='03', count(COD_HTTP)=773),\n",
       " Row(DAY='04', count(COD_HTTP)=705),\n",
       " Row(DAY='05', count(COD_HTTP)=733),\n",
       " Row(DAY='06', count(COD_HTTP)=1013),\n",
       " Row(DAY='07', count(COD_HTTP)=1106),\n",
       " Row(DAY='08', count(COD_HTTP)=692),\n",
       " Row(DAY='09', count(COD_HTTP)=627),\n",
       " Row(DAY='10', count(COD_HTTP)=704),\n",
       " Row(DAY='11', count(COD_HTTP)=734),\n",
       " Row(DAY='12', count(COD_HTTP)=666),\n",
       " Row(DAY='13', count(COD_HTTP)=747),\n",
       " Row(DAY='14', count(COD_HTTP)=698),\n",
       " Row(DAY='15', count(COD_HTTP)=581),\n",
       " Row(DAY='16', count(COD_HTTP)=516),\n",
       " Row(DAY='17', count(COD_HTTP)=677),\n",
       " Row(DAY='18', count(COD_HTTP)=721),\n",
       " Row(DAY='19', count(COD_HTTP)=847),\n",
       " Row(DAY='20', count(COD_HTTP)=740),\n",
       " Row(DAY='21', count(COD_HTTP)=637),\n",
       " Row(DAY='22', count(COD_HTTP)=476),\n",
       " Row(DAY='23', count(COD_HTTP)=578),\n",
       " Row(DAY='24', count(COD_HTTP)=748),\n",
       " Row(DAY='25', count(COD_HTTP)=876),\n",
       " Row(DAY='26', count(COD_HTTP)=702),\n",
       " Row(DAY='27', count(COD_HTTP)=703),\n",
       " Row(DAY='28', count(COD_HTTP)=504),\n",
       " Row(DAY='29', count(COD_HTTP)=420),\n",
       " Row(DAY='30', count(COD_HTTP)=571),\n",
       " Row(DAY='31', count(COD_HTTP)=526)]"
      ]
     },
     "execution_count": 178,
     "metadata": {},
     "output_type": "execute_result"
    }
   ],
   "source": [
    "dia404"
   ]
  },
  {
   "cell_type": "code",
   "execution_count": 206,
   "metadata": {},
   "outputs": [],
   "source": [
    "listErro404 = [int((dia404)[i][1]) for i in range(0,31)]\n",
    "dias = [int((dia404)[i][0]) for i in range(0,31)]"
   ]
  },
  {
   "cell_type": "code",
   "execution_count": 212,
   "metadata": {},
   "outputs": [
    {
     "data": {
      "text/plain": [
       "Text(0, 0.5, 'Quantidade de erros')"
      ]
     },
     "execution_count": 212,
     "metadata": {},
     "output_type": "execute_result"
    },
    {
     "data": {
      "image/png": "[encoded data removed]",
      "text/plain": [
       "<Figure size 432x288 with 1 Axes>"
      ]
     },
     "metadata": {
      "needs_background": "light"
     },
     "output_type": "display_data"
    }
   ],
   "source": [
    "ax = sns.lineplot(x=dias, y=listErro404)\n",
    "ax.set_xlabel('Dias')\n",
    "ax.set_ylabel('Quantidade de erros')"
   ]
  },
  {
   "cell_type": "markdown",
   "metadata": {},
   "source": [
    "## 5. O total de bytes retornados"
   ]
  },
  {
   "cell_type": "code",
   "execution_count": 217,
   "metadata": {},
   "outputs": [],
   "source": [
    "totalBytes = spSession.sql(\"SELECT COUNT(TOTAL_BYTES) as TOTAL_BYTES FROM dataset\").first()"
   ]
  },
  {
   "cell_type": "code",
   "execution_count": 218,
   "metadata": {},
   "outputs": [
    {
     "name": "stdout",
     "output_type": "stream",
     "text": [
      "Total de bytes: 3461612\n"
     ]
    }
   ],
   "source": [
    "print(\"Total de bytes: {}\".format(totalBytes[0]))"
   ]
  },
  {
   "cell_type": "markdown",
   "metadata": {},
   "source": [
    "# FIM"
   ]
  }
 ],
 "metadata": {
  "kernelspec": {
   "display_name": "Python 3",
   "language": "python",
   "name": "python3"
  },
  "language_info": {
   "codemirror_mode": {
    "name": "ipython",
    "version": 3
   },
   "file_extension": ".py",
   "mimetype": "text/x-python",
   "name": "python",
   "nbconvert_exporter": "python",
   "pygments_lexer": "ipython3",
   "version": "3.7.4"
  }
 },
 "nbformat": 4,
 "nbformat_minor": 2
}
